{
 "cells": [
  {
   "cell_type": "markdown",
   "id": "db4ef66c",
   "metadata": {},
   "source": [
    "# Fraudulent Transaction Prediction using Machine Learning\n",
    "\n",
    "**Steps involved:**\n",
    "\n",
    "* **Exploratory data analysis (EDA)** - the process of going through a dataset and finding out more about it.\n",
    "* **Model training** - create model(s) to learn to predict a target variable based on other variables.\n",
    "* **Model evaluation** - evaluating a models predictions using problem-specific evaluation metrics.\n",
    "* **Model comparison** - comparing several different models to find the best one.\n",
    "* **Model fine-tuning** - once we've found a good model, how can we improve it?\n",
    "* **Feature importance** - since we're predicting the presence of fraudulent transactions, are there some things which are more important for prediction?\n",
    "* **Cross-validation** - if we do build a good model, can we be sure it will work on unseen data?\n",
    "* **Reporting what we've found** - if we had to present our work, what would we show someone?\n",
    "\n",
    "\n",
    "## 1. Problem Definition\n",
    "In our case, the problem we will be exploring is **binary classification** (a sample can only be one of two things).\n",
    "\n",
    "This is because we're going to be using a number of differnet features (pieces of information) about a transaction to predict whether it is fraudluent or not.\n",
    "\n",
    "In a statement,\n",
    "\n",
    "*`Given transactional parameters about a transaction, can we predict whether or not it is fraudulent?`*\n",
    "\n",
    "## 2. Data\n",
    "Data for the\n",
    "case is available in CSV format having `6362620` rows and `10` columns.\n",
    "\n",
    "\n",
    "## 3. Data Dictionary\n",
    "\n",
    "* **step** - maps a unit of time in the real world. In this case 1 step is 1 hour of time. Total steps 744 (30 days simulation).\n",
    "\n",
    "* **type** - CASH-IN, CASH-OUT, DEBIT, PAYMENT and TRANSFER.\n",
    "\n",
    "* **amount** - amount of the transaction in local currency.\n",
    "\n",
    "* **nameOrig** - customer who started the transaction\n",
    "\n",
    "* **oldbalanceOrg** - initial balance before the transaction\n",
    "\n",
    "* **newbalanceOrig** - new balance after the transaction\n",
    "\n",
    "* **nameDest** - customer who is the recipient of the transaction\n",
    "\n",
    "* **oldbalanceDest** - initial balance recipient before the transaction. Note that there is not information for customers that start with M (Merchants).\n",
    "\n",
    "* **newbalanceDest** - new balance recipient after the transaction. Note that there is not information for customers that start with M (Merchants).\n",
    "\n",
    "* **isFraud** - This is the transactions made by the fraudulent agents inside the simulation. In this specific dataset the fraudulent behavior of the agents aims to profit by taking control or customers accounts and try to empty the funds by transferring to another account and then cashing out of the system.\n",
    "\n",
    "* **isFlaggedFraud** - The business model aims to control massive transfers from one account to another and flags illegal attempts. An illegal attempt in this dataset is an attempt to transfer more than 200.000 in a single transaction.\n",
    "\n",
    "### Libraries Required\n",
    "\n",
    "* **pandas** for data analysis.\n",
    "* **NumPy** for numerical operations.\n",
    "* **Matplotlib/seaborn** for plotting or data visualization.\n",
    "* **Scikit-Learn** for machine learning modelling and evaluation."
   ]
  },
  {
   "cell_type": "code",
   "execution_count": 1,
   "id": "2a5dbad3",
   "metadata": {},
   "outputs": [],
   "source": [
    "import pandas as pd\n",
    "import numpy as np\n",
    "import matplotlib.pyplot as plt\n",
    "import seaborn as sns\n",
    "\n",
    "# We want our plots to appear in the notebook\n",
    "%matplotlib inline \n",
    "\n",
    "## Models\n",
    "from sklearn.ensemble import RandomForestClassifier\n",
    "\n",
    "## Model Evaluators\n",
    "from sklearn.model_selection import train_test_split"
   ]
  },
  {
   "cell_type": "markdown",
   "id": "393df44a",
   "metadata": {},
   "source": [
    "## Data Exploration (exploratory data analysis or EDA)\n",
    "\n",
    "The goal is to become a subject matter expert on the dataset we're working with. So when we start building models, we can sound check them to make sure they're not performing too well (overfitting) or why they might be performing poorly (underfitting).\n",
    "\n",
    "Since EDA has no real set methodolgy, the following is a short check list we might want to walk through:\n",
    "\n",
    "1. What question(s) are we trying to solve (or prove wrong)?\n",
    "2. What kind of data do we have and how do we treat different types?\n",
    "3. What’s missing from the data and how do we deal with it?\n",
    "4. Where are the outliers and why should we care about them?\n",
    "5. How can we add, change or remove features to get more out of our data?"
   ]
  },
  {
   "cell_type": "code",
   "execution_count": 2,
   "id": "bcbb3ed4",
   "metadata": {},
   "outputs": [
    {
     "data": {
      "text/html": [
       "<div>\n",
       "<style scoped>\n",
       "    .dataframe tbody tr th:only-of-type {\n",
       "        vertical-align: middle;\n",
       "    }\n",
       "\n",
       "    .dataframe tbody tr th {\n",
       "        vertical-align: top;\n",
       "    }\n",
       "\n",
       "    .dataframe thead th {\n",
       "        text-align: right;\n",
       "    }\n",
       "</style>\n",
       "<table border=\"1\" class=\"dataframe\">\n",
       "  <thead>\n",
       "    <tr style=\"text-align: right;\">\n",
       "      <th></th>\n",
       "      <th>step</th>\n",
       "      <th>type</th>\n",
       "      <th>amount</th>\n",
       "      <th>nameOrig</th>\n",
       "      <th>oldbalanceOrg</th>\n",
       "      <th>newbalanceOrig</th>\n",
       "      <th>nameDest</th>\n",
       "      <th>oldbalanceDest</th>\n",
       "      <th>newbalanceDest</th>\n",
       "      <th>isFraud</th>\n",
       "      <th>isFlaggedFraud</th>\n",
       "    </tr>\n",
       "  </thead>\n",
       "  <tbody>\n",
       "    <tr>\n",
       "      <th>0</th>\n",
       "      <td>1</td>\n",
       "      <td>PAYMENT</td>\n",
       "      <td>9839.64</td>\n",
       "      <td>C1231006815</td>\n",
       "      <td>170136.0</td>\n",
       "      <td>160296.36</td>\n",
       "      <td>M1979787155</td>\n",
       "      <td>0.0</td>\n",
       "      <td>0.0</td>\n",
       "      <td>0</td>\n",
       "      <td>0</td>\n",
       "    </tr>\n",
       "    <tr>\n",
       "      <th>1</th>\n",
       "      <td>1</td>\n",
       "      <td>PAYMENT</td>\n",
       "      <td>1864.28</td>\n",
       "      <td>C1666544295</td>\n",
       "      <td>21249.0</td>\n",
       "      <td>19384.72</td>\n",
       "      <td>M2044282225</td>\n",
       "      <td>0.0</td>\n",
       "      <td>0.0</td>\n",
       "      <td>0</td>\n",
       "      <td>0</td>\n",
       "    </tr>\n",
       "    <tr>\n",
       "      <th>2</th>\n",
       "      <td>1</td>\n",
       "      <td>TRANSFER</td>\n",
       "      <td>181.00</td>\n",
       "      <td>C1305486145</td>\n",
       "      <td>181.0</td>\n",
       "      <td>0.00</td>\n",
       "      <td>C553264065</td>\n",
       "      <td>0.0</td>\n",
       "      <td>0.0</td>\n",
       "      <td>1</td>\n",
       "      <td>0</td>\n",
       "    </tr>\n",
       "    <tr>\n",
       "      <th>3</th>\n",
       "      <td>1</td>\n",
       "      <td>CASH_OUT</td>\n",
       "      <td>181.00</td>\n",
       "      <td>C840083671</td>\n",
       "      <td>181.0</td>\n",
       "      <td>0.00</td>\n",
       "      <td>C38997010</td>\n",
       "      <td>21182.0</td>\n",
       "      <td>0.0</td>\n",
       "      <td>1</td>\n",
       "      <td>0</td>\n",
       "    </tr>\n",
       "    <tr>\n",
       "      <th>4</th>\n",
       "      <td>1</td>\n",
       "      <td>PAYMENT</td>\n",
       "      <td>11668.14</td>\n",
       "      <td>C2048537720</td>\n",
       "      <td>41554.0</td>\n",
       "      <td>29885.86</td>\n",
       "      <td>M1230701703</td>\n",
       "      <td>0.0</td>\n",
       "      <td>0.0</td>\n",
       "      <td>0</td>\n",
       "      <td>0</td>\n",
       "    </tr>\n",
       "  </tbody>\n",
       "</table>\n",
       "</div>"
      ],
      "text/plain": [
       "   step      type    amount     nameOrig  oldbalanceOrg  newbalanceOrig  \\\n",
       "0     1   PAYMENT   9839.64  C1231006815       170136.0       160296.36   \n",
       "1     1   PAYMENT   1864.28  C1666544295        21249.0        19384.72   \n",
       "2     1  TRANSFER    181.00  C1305486145          181.0            0.00   \n",
       "3     1  CASH_OUT    181.00   C840083671          181.0            0.00   \n",
       "4     1   PAYMENT  11668.14  C2048537720        41554.0        29885.86   \n",
       "\n",
       "      nameDest  oldbalanceDest  newbalanceDest  isFraud  isFlaggedFraud  \n",
       "0  M1979787155             0.0             0.0        0               0  \n",
       "1  M2044282225             0.0             0.0        0               0  \n",
       "2   C553264065             0.0             0.0        1               0  \n",
       "3    C38997010         21182.0             0.0        1               0  \n",
       "4  M1230701703             0.0             0.0        0               0  "
      ]
     },
     "execution_count": 2,
     "metadata": {},
     "output_type": "execute_result"
    }
   ],
   "source": [
    "df = pd.read_csv(\"Fraud.csv\")\n",
    "df.head()"
   ]
  },
  {
   "cell_type": "code",
   "execution_count": 3,
   "id": "7c714bee",
   "metadata": {},
   "outputs": [
    {
     "data": {
      "text/html": [
       "<div>\n",
       "<style scoped>\n",
       "    .dataframe tbody tr th:only-of-type {\n",
       "        vertical-align: middle;\n",
       "    }\n",
       "\n",
       "    .dataframe tbody tr th {\n",
       "        vertical-align: top;\n",
       "    }\n",
       "\n",
       "    .dataframe thead th {\n",
       "        text-align: right;\n",
       "    }\n",
       "</style>\n",
       "<table border=\"1\" class=\"dataframe\">\n",
       "  <thead>\n",
       "    <tr style=\"text-align: right;\">\n",
       "      <th></th>\n",
       "      <th>count</th>\n",
       "      <th>mean</th>\n",
       "      <th>std</th>\n",
       "      <th>min</th>\n",
       "      <th>25%</th>\n",
       "      <th>50%</th>\n",
       "      <th>75%</th>\n",
       "      <th>max</th>\n",
       "    </tr>\n",
       "  </thead>\n",
       "  <tbody>\n",
       "    <tr>\n",
       "      <th>step</th>\n",
       "      <td>6362620.0</td>\n",
       "      <td>2.433972e+02</td>\n",
       "      <td>1.423320e+02</td>\n",
       "      <td>1.0</td>\n",
       "      <td>156.00</td>\n",
       "      <td>239.000</td>\n",
       "      <td>3.350000e+02</td>\n",
       "      <td>7.430000e+02</td>\n",
       "    </tr>\n",
       "    <tr>\n",
       "      <th>amount</th>\n",
       "      <td>6362620.0</td>\n",
       "      <td>1.798619e+05</td>\n",
       "      <td>6.038582e+05</td>\n",
       "      <td>0.0</td>\n",
       "      <td>13389.57</td>\n",
       "      <td>74871.940</td>\n",
       "      <td>2.087215e+05</td>\n",
       "      <td>9.244552e+07</td>\n",
       "    </tr>\n",
       "    <tr>\n",
       "      <th>oldbalanceOrg</th>\n",
       "      <td>6362620.0</td>\n",
       "      <td>8.338831e+05</td>\n",
       "      <td>2.888243e+06</td>\n",
       "      <td>0.0</td>\n",
       "      <td>0.00</td>\n",
       "      <td>14208.000</td>\n",
       "      <td>1.073152e+05</td>\n",
       "      <td>5.958504e+07</td>\n",
       "    </tr>\n",
       "    <tr>\n",
       "      <th>newbalanceOrig</th>\n",
       "      <td>6362620.0</td>\n",
       "      <td>8.551137e+05</td>\n",
       "      <td>2.924049e+06</td>\n",
       "      <td>0.0</td>\n",
       "      <td>0.00</td>\n",
       "      <td>0.000</td>\n",
       "      <td>1.442584e+05</td>\n",
       "      <td>4.958504e+07</td>\n",
       "    </tr>\n",
       "    <tr>\n",
       "      <th>oldbalanceDest</th>\n",
       "      <td>6362620.0</td>\n",
       "      <td>1.100702e+06</td>\n",
       "      <td>3.399180e+06</td>\n",
       "      <td>0.0</td>\n",
       "      <td>0.00</td>\n",
       "      <td>132705.665</td>\n",
       "      <td>9.430367e+05</td>\n",
       "      <td>3.560159e+08</td>\n",
       "    </tr>\n",
       "    <tr>\n",
       "      <th>newbalanceDest</th>\n",
       "      <td>6362620.0</td>\n",
       "      <td>1.224996e+06</td>\n",
       "      <td>3.674129e+06</td>\n",
       "      <td>0.0</td>\n",
       "      <td>0.00</td>\n",
       "      <td>214661.440</td>\n",
       "      <td>1.111909e+06</td>\n",
       "      <td>3.561793e+08</td>\n",
       "    </tr>\n",
       "    <tr>\n",
       "      <th>isFraud</th>\n",
       "      <td>6362620.0</td>\n",
       "      <td>1.290820e-03</td>\n",
       "      <td>3.590480e-02</td>\n",
       "      <td>0.0</td>\n",
       "      <td>0.00</td>\n",
       "      <td>0.000</td>\n",
       "      <td>0.000000e+00</td>\n",
       "      <td>1.000000e+00</td>\n",
       "    </tr>\n",
       "    <tr>\n",
       "      <th>isFlaggedFraud</th>\n",
       "      <td>6362620.0</td>\n",
       "      <td>2.514687e-06</td>\n",
       "      <td>1.585775e-03</td>\n",
       "      <td>0.0</td>\n",
       "      <td>0.00</td>\n",
       "      <td>0.000</td>\n",
       "      <td>0.000000e+00</td>\n",
       "      <td>1.000000e+00</td>\n",
       "    </tr>\n",
       "  </tbody>\n",
       "</table>\n",
       "</div>"
      ],
      "text/plain": [
       "                    count          mean           std  min       25%  \\\n",
       "step            6362620.0  2.433972e+02  1.423320e+02  1.0    156.00   \n",
       "amount          6362620.0  1.798619e+05  6.038582e+05  0.0  13389.57   \n",
       "oldbalanceOrg   6362620.0  8.338831e+05  2.888243e+06  0.0      0.00   \n",
       "newbalanceOrig  6362620.0  8.551137e+05  2.924049e+06  0.0      0.00   \n",
       "oldbalanceDest  6362620.0  1.100702e+06  3.399180e+06  0.0      0.00   \n",
       "newbalanceDest  6362620.0  1.224996e+06  3.674129e+06  0.0      0.00   \n",
       "isFraud         6362620.0  1.290820e-03  3.590480e-02  0.0      0.00   \n",
       "isFlaggedFraud  6362620.0  2.514687e-06  1.585775e-03  0.0      0.00   \n",
       "\n",
       "                       50%           75%           max  \n",
       "step               239.000  3.350000e+02  7.430000e+02  \n",
       "amount           74871.940  2.087215e+05  9.244552e+07  \n",
       "oldbalanceOrg    14208.000  1.073152e+05  5.958504e+07  \n",
       "newbalanceOrig       0.000  1.442584e+05  4.958504e+07  \n",
       "oldbalanceDest  132705.665  9.430367e+05  3.560159e+08  \n",
       "newbalanceDest  214661.440  1.111909e+06  3.561793e+08  \n",
       "isFraud              0.000  0.000000e+00  1.000000e+00  \n",
       "isFlaggedFraud       0.000  0.000000e+00  1.000000e+00  "
      ]
     },
     "execution_count": 3,
     "metadata": {},
     "output_type": "execute_result"
    }
   ],
   "source": [
    "# Description of the dataset\n",
    "df.describe().T"
   ]
  },
  {
   "cell_type": "code",
   "execution_count": 5,
   "id": "fc3624df",
   "metadata": {},
   "outputs": [
    {
     "data": {
      "text/plain": [
       "step              0\n",
       "type              0\n",
       "amount            0\n",
       "nameOrig          0\n",
       "oldbalanceOrg     0\n",
       "newbalanceOrig    0\n",
       "nameDest          0\n",
       "oldbalanceDest    0\n",
       "newbalanceDest    0\n",
       "isFraud           0\n",
       "isFlaggedFraud    0\n",
       "dtype: int64"
      ]
     },
     "execution_count": 5,
     "metadata": {},
     "output_type": "execute_result"
    }
   ],
   "source": [
    "# Checking for missing values\n",
    "df.isna().sum()"
   ]
  },
  {
   "cell_type": "code",
   "execution_count": 19,
   "id": "01bdf205",
   "metadata": {},
   "outputs": [
    {
     "name": "stdout",
     "output_type": "stream",
     "text": [
      "<class 'pandas.core.frame.DataFrame'>\n",
      "RangeIndex: 6362620 entries, 0 to 6362619\n",
      "Data columns (total 11 columns):\n",
      " #   Column          Dtype  \n",
      "---  ------          -----  \n",
      " 0   step            int64  \n",
      " 1   type            object \n",
      " 2   amount          float64\n",
      " 3   nameOrig        object \n",
      " 4   oldbalanceOrg   float64\n",
      " 5   newbalanceOrig  float64\n",
      " 6   nameDest        object \n",
      " 7   oldbalanceDest  float64\n",
      " 8   newbalanceDest  float64\n",
      " 9   isFraud         int64  \n",
      " 10  isFlaggedFraud  int64  \n",
      "dtypes: float64(5), int64(3), object(3)\n",
      "memory usage: 534.0+ MB\n"
     ]
    }
   ],
   "source": [
    "# Data Types of the features/attributes\n",
    "df.info()"
   ]
  },
  {
   "cell_type": "markdown",
   "id": "4fe2341b",
   "metadata": {},
   "source": [
    "We select `isFraud` as our target attribute.\n",
    "\n"
   ]
  },
  {
   "cell_type": "code",
   "execution_count": 6,
   "id": "9e84fe5b",
   "metadata": {},
   "outputs": [
    {
     "name": "stdout",
     "output_type": "stream",
     "text": [
      "Percentage of Non-Fraudulent and Fraudulent Transactions:\n",
      "0    99.870918\n",
      "1     0.129082\n",
      "Name: isFraud, dtype: float64\n"
     ]
    }
   ],
   "source": [
    "fraudPercentage = df.isFraud.value_counts(normalize=True)\n",
    "print(\"Percentage of Non-Fraudulent and Fraudulent Transactions:\\n{}\".format(fraudPercentage*100))"
   ]
  },
  {
   "cell_type": "markdown",
   "id": "29cf2a7a",
   "metadata": {},
   "source": [
    "Frome the above data we can infer that less than `0.13` percent of the total transactions are fraudulent."
   ]
  },
  {
   "cell_type": "markdown",
   "id": "f59bdd34",
   "metadata": {},
   "source": [
    "### Relationship between the Type of Transaction with our Target Attribute (isFraud)\n",
    "\n",
    "**Types of Transaction :**\n",
    "* PAYMENT\n",
    "* TRANSFER\n",
    "* CASH_OUT\n",
    "* DEBIT\n",
    "* CASH_IN"
   ]
  },
  {
   "cell_type": "code",
   "execution_count": 7,
   "id": "b8fd4eb5",
   "metadata": {},
   "outputs": [
    {
     "name": "stdout",
     "output_type": "stream",
     "text": [
      "['PAYMENT' 'TRANSFER' 'CASH_OUT' 'DEBIT' 'CASH_IN']\n"
     ]
    }
   ],
   "source": [
    "print(df.type.unique())"
   ]
  },
  {
   "cell_type": "code",
   "execution_count": 8,
   "id": "a8edeb5f",
   "metadata": {},
   "outputs": [
    {
     "name": "stdout",
     "output_type": "stream",
     "text": [
      "Percentage of each individual type of transactions:\n",
      "CASH_OUT    35.166331\n",
      "PAYMENT     33.814608\n",
      "CASH_IN     21.992261\n",
      "TRANSFER     8.375622\n",
      "DEBIT        0.651178\n",
      "Name: type, dtype: float64\n"
     ]
    }
   ],
   "source": [
    "print(\"Percentage of each individual type of transactions:\")\n",
    "print((df.type.value_counts()/df.type.value_counts().sum())*100)"
   ]
  },
  {
   "cell_type": "code",
   "execution_count": 9,
   "id": "e6b526a6",
   "metadata": {},
   "outputs": [
    {
     "data": {
      "image/png": "[encoded data removed]",
      "text/plain": [
       "<Figure size 432x288 with 1 Axes>"
      ]
     },
     "metadata": {},
     "output_type": "display_data"
    }
   ],
   "source": [
    "((df.type.value_counts()/df.type.value_counts().sum())*100).plot(kind=\"pie\")\n",
    "\n",
    "plt.title(\"Types of Transactions\");\\\n",
    "plt.ylabel(\"\");"
   ]
  },
  {
   "cell_type": "code",
   "execution_count": 10,
   "id": "2af1f7db",
   "metadata": {},
   "outputs": [
    {
     "data": {
      "text/html": [
       "<div>\n",
       "<style scoped>\n",
       "    .dataframe tbody tr th:only-of-type {\n",
       "        vertical-align: middle;\n",
       "    }\n",
       "\n",
       "    .dataframe tbody tr th {\n",
       "        vertical-align: top;\n",
       "    }\n",
       "\n",
       "    .dataframe thead th {\n",
       "        text-align: right;\n",
       "    }\n",
       "</style>\n",
       "<table border=\"1\" class=\"dataframe\">\n",
       "  <thead>\n",
       "    <tr style=\"text-align: right;\">\n",
       "      <th>type</th>\n",
       "      <th>CASH_IN</th>\n",
       "      <th>CASH_OUT</th>\n",
       "      <th>DEBIT</th>\n",
       "      <th>PAYMENT</th>\n",
       "      <th>TRANSFER</th>\n",
       "    </tr>\n",
       "    <tr>\n",
       "      <th>isFraud</th>\n",
       "      <th></th>\n",
       "      <th></th>\n",
       "      <th></th>\n",
       "      <th></th>\n",
       "      <th></th>\n",
       "    </tr>\n",
       "  </thead>\n",
       "  <tbody>\n",
       "    <tr>\n",
       "      <th>0</th>\n",
       "      <td>1399284</td>\n",
       "      <td>2233384</td>\n",
       "      <td>41432</td>\n",
       "      <td>2151495</td>\n",
       "      <td>528812</td>\n",
       "    </tr>\n",
       "    <tr>\n",
       "      <th>1</th>\n",
       "      <td>0</td>\n",
       "      <td>4116</td>\n",
       "      <td>0</td>\n",
       "      <td>0</td>\n",
       "      <td>4097</td>\n",
       "    </tr>\n",
       "  </tbody>\n",
       "</table>\n",
       "</div>"
      ],
      "text/plain": [
       "type     CASH_IN  CASH_OUT  DEBIT  PAYMENT  TRANSFER\n",
       "isFraud                                             \n",
       "0        1399284   2233384  41432  2151495    528812\n",
       "1              0      4116      0        0      4097"
      ]
     },
     "execution_count": 10,
     "metadata": {},
     "output_type": "execute_result"
    }
   ],
   "source": [
    "pd.crosstab(df.isFraud, df.type)"
   ]
  },
  {
   "cell_type": "code",
   "execution_count": 11,
   "id": "30d42f23",
   "metadata": {},
   "outputs": [
    {
     "data": {
      "image/png": "[encoded data removed]",
      "text/plain": [
       "<Figure size 432x288 with 1 Axes>"
      ]
     },
     "metadata": {
      "needs_background": "light"
     },
     "output_type": "display_data"
    }
   ],
   "source": [
    "df.type[df.isFraud == 1].value_counts().plot(kind=\"bar\", color=[\"blue\",\"red\"])\n",
    "\n",
    "plt.title(\"Number of Fraudulent Transactions\");"
   ]
  },
  {
   "cell_type": "markdown",
   "id": "f326c78f",
   "metadata": {},
   "source": [
    "From the above crosstab we can infer that fraudulent transactions take place only in `CASH_OUT` and `TRASNFER` type of transactions where `4116 of CASH_OUT` and `4097 of TRANSFER` transactions where fraudulent. "
   ]
  },
  {
   "cell_type": "markdown",
   "id": "40370ea6",
   "metadata": {},
   "source": [
    "### Relationship between the Amount and our Target Attribute (isFraud)"
   ]
  },
  {
   "cell_type": "code",
   "execution_count": 12,
   "id": "2e0aba0e",
   "metadata": {},
   "outputs": [
    {
     "name": "stdout",
     "output_type": "stream",
     "text": [
      "Maximum Transaction amount: 92445516.64\n",
      "Minimum Transaction amount: 0.0\n",
      "Average Transaction amount: 179861.9\n",
      "\n",
      "Maximum Amount Transaction occurend for transaction: 3686583    TRANSFER\n",
      "Name: type, dtype: object\n",
      "\n",
      "Maximum CASH_OUT Transaction amount: 10000000.0\n",
      "Minimum CASH_OUT Transaction amount: 0.0\n",
      "Average CASH_OUT Transaction amount: 176273.96\n",
      "\n",
      "Maximum TRANSFER Transaction amount: 92445516.64\n",
      "Minimum TRANSFER Transaction amount: 2.6\n",
      "Average TRANSFER Transaction amount: 910647.01\n"
     ]
    }
   ],
   "source": [
    "#Amount Details for all the Transactions\n",
    "print(\"Maximum Transaction amount:\", df.amount.max())\n",
    "print(\"Minimum Transaction amount:\", df.amount.min())\n",
    "print(\"Average Transaction amount:\", round(df.amount.mean(),2))\n",
    "\n",
    "print(\"\\nMaximum Amount Transaction occurend for transaction:\", df.type[df.amount == df.amount.max()])\n",
    "\n",
    "#Amount Details for CASH_OUT and TRANSFER Transactions\n",
    "print(\"\\nMaximum CASH_OUT Transaction amount:\", df.amount[df.type==\"CASH_OUT\"].max())\n",
    "print(\"Minimum CASH_OUT Transaction amount:\", df.amount[df.type==\"CASH_OUT\"].min())\n",
    "print(\"Average CASH_OUT Transaction amount:\", round(df.amount[df.type==\"CASH_OUT\"].mean(),2))\n",
    "\n",
    "print(\"\\nMaximum TRANSFER Transaction amount:\", df.amount[df.type==\"TRANSFER\"].max())\n",
    "print(\"Minimum TRANSFER Transaction amount:\", df.amount[df.type==\"TRANSFER\"].min())\n",
    "print(\"Average TRANSFER Transaction amount:\", round(df.amount[df.type==\"TRANSFER\"].mean(),2))"
   ]
  },
  {
   "cell_type": "code",
   "execution_count": 13,
   "id": "cc3d1675",
   "metadata": {},
   "outputs": [
    {
     "data": {
      "image/png": "[encoded data removed]",
      "text/plain": [
       "<Figure size 432x288 with 1 Axes>"
      ]
     },
     "metadata": {
      "needs_background": "light"
     },
     "output_type": "display_data"
    }
   ],
   "source": [
    "avg = {\"TOTAL\":round(df.amount.mean(),2),\n",
    "       \"CASH_OUT\": round(df.amount[df.type==\"CASH_OUT\"].mean(),2),\n",
    "       \"TRANSFER\": round(df.amount[df.type==\"TRANSFER\"].mean(),2)\n",
    "    }\n",
    "\n",
    "pd.DataFrame(avg.values(), index=avg.keys()).plot(kind=\"bar\", color=\"red\")\n",
    "\n",
    "plt.title(\"Average Transaction amount\")\n",
    "plt.legend(\"\");"
   ]
  },
  {
   "cell_type": "code",
   "execution_count": 14,
   "id": "29007ed1",
   "metadata": {},
   "outputs": [
    {
     "data": {
      "text/html": [
       "<div>\n",
       "<style scoped>\n",
       "    .dataframe tbody tr th:only-of-type {\n",
       "        vertical-align: middle;\n",
       "    }\n",
       "\n",
       "    .dataframe tbody tr th {\n",
       "        vertical-align: top;\n",
       "    }\n",
       "\n",
       "    .dataframe thead th {\n",
       "        text-align: right;\n",
       "    }\n",
       "</style>\n",
       "<table border=\"1\" class=\"dataframe\">\n",
       "  <thead>\n",
       "    <tr style=\"text-align: right;\">\n",
       "      <th></th>\n",
       "      <th>step</th>\n",
       "      <th>type</th>\n",
       "      <th>amount</th>\n",
       "      <th>nameOrig</th>\n",
       "      <th>oldbalanceOrg</th>\n",
       "      <th>newbalanceOrig</th>\n",
       "      <th>nameDest</th>\n",
       "      <th>oldbalanceDest</th>\n",
       "      <th>newbalanceDest</th>\n",
       "      <th>isFraud</th>\n",
       "      <th>isFlaggedFraud</th>\n",
       "    </tr>\n",
       "  </thead>\n",
       "  <tbody>\n",
       "    <tr>\n",
       "      <th>2736446</th>\n",
       "      <td>212</td>\n",
       "      <td>TRANSFER</td>\n",
       "      <td>4953893.08</td>\n",
       "      <td>C728984460</td>\n",
       "      <td>4953893.08</td>\n",
       "      <td>4953893.08</td>\n",
       "      <td>C639921569</td>\n",
       "      <td>0.0</td>\n",
       "      <td>0.0</td>\n",
       "      <td>1</td>\n",
       "      <td>1</td>\n",
       "    </tr>\n",
       "    <tr>\n",
       "      <th>3247297</th>\n",
       "      <td>250</td>\n",
       "      <td>TRANSFER</td>\n",
       "      <td>1343002.08</td>\n",
       "      <td>C1100582606</td>\n",
       "      <td>1343002.08</td>\n",
       "      <td>1343002.08</td>\n",
       "      <td>C1147517658</td>\n",
       "      <td>0.0</td>\n",
       "      <td>0.0</td>\n",
       "      <td>1</td>\n",
       "      <td>1</td>\n",
       "    </tr>\n",
       "    <tr>\n",
       "      <th>3760288</th>\n",
       "      <td>279</td>\n",
       "      <td>TRANSFER</td>\n",
       "      <td>536624.41</td>\n",
       "      <td>C1035541766</td>\n",
       "      <td>536624.41</td>\n",
       "      <td>536624.41</td>\n",
       "      <td>C1100697970</td>\n",
       "      <td>0.0</td>\n",
       "      <td>0.0</td>\n",
       "      <td>1</td>\n",
       "      <td>1</td>\n",
       "    </tr>\n",
       "    <tr>\n",
       "      <th>5563713</th>\n",
       "      <td>387</td>\n",
       "      <td>TRANSFER</td>\n",
       "      <td>4892193.09</td>\n",
       "      <td>C908544136</td>\n",
       "      <td>4892193.09</td>\n",
       "      <td>4892193.09</td>\n",
       "      <td>C891140444</td>\n",
       "      <td>0.0</td>\n",
       "      <td>0.0</td>\n",
       "      <td>1</td>\n",
       "      <td>1</td>\n",
       "    </tr>\n",
       "    <tr>\n",
       "      <th>5996407</th>\n",
       "      <td>425</td>\n",
       "      <td>TRANSFER</td>\n",
       "      <td>10000000.00</td>\n",
       "      <td>C689608084</td>\n",
       "      <td>19585040.37</td>\n",
       "      <td>19585040.37</td>\n",
       "      <td>C1392803603</td>\n",
       "      <td>0.0</td>\n",
       "      <td>0.0</td>\n",
       "      <td>1</td>\n",
       "      <td>1</td>\n",
       "    </tr>\n",
       "  </tbody>\n",
       "</table>\n",
       "</div>"
      ],
      "text/plain": [
       "         step      type       amount     nameOrig  oldbalanceOrg  \\\n",
       "2736446   212  TRANSFER   4953893.08   C728984460     4953893.08   \n",
       "3247297   250  TRANSFER   1343002.08  C1100582606     1343002.08   \n",
       "3760288   279  TRANSFER    536624.41  C1035541766      536624.41   \n",
       "5563713   387  TRANSFER   4892193.09   C908544136     4892193.09   \n",
       "5996407   425  TRANSFER  10000000.00   C689608084    19585040.37   \n",
       "\n",
       "         newbalanceOrig     nameDest  oldbalanceDest  newbalanceDest  isFraud  \\\n",
       "2736446      4953893.08   C639921569             0.0             0.0        1   \n",
       "3247297      1343002.08  C1147517658             0.0             0.0        1   \n",
       "3760288       536624.41  C1100697970             0.0             0.0        1   \n",
       "5563713      4892193.09   C891140444             0.0             0.0        1   \n",
       "5996407     19585040.37  C1392803603             0.0             0.0        1   \n",
       "\n",
       "         isFlaggedFraud  \n",
       "2736446               1  \n",
       "3247297               1  \n",
       "3760288               1  \n",
       "5563713               1  \n",
       "5996407               1  "
      ]
     },
     "execution_count": 14,
     "metadata": {},
     "output_type": "execute_result"
    }
   ],
   "source": [
    "flagged = df[df.isFlaggedFraud==1]\n",
    "flagged.head()"
   ]
  },
  {
   "cell_type": "code",
   "execution_count": 15,
   "id": "f57ce51c",
   "metadata": {},
   "outputs": [
    {
     "name": "stdout",
     "output_type": "stream",
     "text": [
      "The Number of Transactions that are flagged to be fraud are: 16\n"
     ]
    }
   ],
   "source": [
    "print(\"The Number of Transactions that are flagged to be fraud are:\", len(flagged))"
   ]
  },
  {
   "cell_type": "code",
   "execution_count": 16,
   "id": "177ff50f",
   "metadata": {},
   "outputs": [
    {
     "data": {
      "text/plain": [
       "2736446    1\n",
       "3247297    1\n",
       "3760288    1\n",
       "5563713    1\n",
       "5996407    1\n",
       "5996409    1\n",
       "6168499    1\n",
       "6205439    1\n",
       "6266413    1\n",
       "6281482    1\n",
       "6281484    1\n",
       "6296014    1\n",
       "6351225    1\n",
       "6362460    1\n",
       "6362462    1\n",
       "6362584    1\n",
       "Name: isFraud, dtype: int64"
      ]
     },
     "execution_count": 16,
     "metadata": {},
     "output_type": "execute_result"
    }
   ],
   "source": [
    "flagged.isFraud"
   ]
  },
  {
   "cell_type": "markdown",
   "id": "6e738293",
   "metadata": {},
   "source": [
    "From the above data we can infer that all the Flagged Transactions were correctly identified as Fraud."
   ]
  },
  {
   "cell_type": "code",
   "execution_count": 17,
   "id": "9625e792",
   "metadata": {},
   "outputs": [
    {
     "data": {
      "text/plain": [
       "(353874.22, 10000000.0)"
      ]
     },
     "execution_count": 17,
     "metadata": {},
     "output_type": "execute_result"
    }
   ],
   "source": [
    "flagged.amount.min(), flagged.amount.max()"
   ]
  },
  {
   "cell_type": "code",
   "execution_count": 18,
   "id": "ce66144b",
   "metadata": {},
   "outputs": [
    {
     "data": {
      "text/html": [
       "<div>\n",
       "<style scoped>\n",
       "    .dataframe tbody tr th:only-of-type {\n",
       "        vertical-align: middle;\n",
       "    }\n",
       "\n",
       "    .dataframe tbody tr th {\n",
       "        vertical-align: top;\n",
       "    }\n",
       "\n",
       "    .dataframe thead th {\n",
       "        text-align: right;\n",
       "    }\n",
       "</style>\n",
       "<table border=\"1\" class=\"dataframe\">\n",
       "  <thead>\n",
       "    <tr style=\"text-align: right;\">\n",
       "      <th></th>\n",
       "      <th>step</th>\n",
       "      <th>type</th>\n",
       "      <th>amount</th>\n",
       "      <th>nameOrig</th>\n",
       "      <th>oldbalanceOrg</th>\n",
       "      <th>newbalanceOrig</th>\n",
       "      <th>nameDest</th>\n",
       "      <th>oldbalanceDest</th>\n",
       "      <th>newbalanceDest</th>\n",
       "      <th>isFraud</th>\n",
       "      <th>isFlaggedFraud</th>\n",
       "    </tr>\n",
       "  </thead>\n",
       "  <tbody>\n",
       "    <tr>\n",
       "      <th>2</th>\n",
       "      <td>1</td>\n",
       "      <td>TRANSFER</td>\n",
       "      <td>181.0</td>\n",
       "      <td>C1305486145</td>\n",
       "      <td>181.0</td>\n",
       "      <td>0.0</td>\n",
       "      <td>C553264065</td>\n",
       "      <td>0.0</td>\n",
       "      <td>0.0</td>\n",
       "      <td>1</td>\n",
       "      <td>0</td>\n",
       "    </tr>\n",
       "    <tr>\n",
       "      <th>3</th>\n",
       "      <td>1</td>\n",
       "      <td>CASH_OUT</td>\n",
       "      <td>181.0</td>\n",
       "      <td>C840083671</td>\n",
       "      <td>181.0</td>\n",
       "      <td>0.0</td>\n",
       "      <td>C38997010</td>\n",
       "      <td>21182.0</td>\n",
       "      <td>0.0</td>\n",
       "      <td>1</td>\n",
       "      <td>0</td>\n",
       "    </tr>\n",
       "    <tr>\n",
       "      <th>251</th>\n",
       "      <td>1</td>\n",
       "      <td>TRANSFER</td>\n",
       "      <td>2806.0</td>\n",
       "      <td>C1420196421</td>\n",
       "      <td>2806.0</td>\n",
       "      <td>0.0</td>\n",
       "      <td>C972765878</td>\n",
       "      <td>0.0</td>\n",
       "      <td>0.0</td>\n",
       "      <td>1</td>\n",
       "      <td>0</td>\n",
       "    </tr>\n",
       "    <tr>\n",
       "      <th>252</th>\n",
       "      <td>1</td>\n",
       "      <td>CASH_OUT</td>\n",
       "      <td>2806.0</td>\n",
       "      <td>C2101527076</td>\n",
       "      <td>2806.0</td>\n",
       "      <td>0.0</td>\n",
       "      <td>C1007251739</td>\n",
       "      <td>26202.0</td>\n",
       "      <td>0.0</td>\n",
       "      <td>1</td>\n",
       "      <td>0</td>\n",
       "    </tr>\n",
       "    <tr>\n",
       "      <th>680</th>\n",
       "      <td>1</td>\n",
       "      <td>TRANSFER</td>\n",
       "      <td>20128.0</td>\n",
       "      <td>C137533655</td>\n",
       "      <td>20128.0</td>\n",
       "      <td>0.0</td>\n",
       "      <td>C1848415041</td>\n",
       "      <td>0.0</td>\n",
       "      <td>0.0</td>\n",
       "      <td>1</td>\n",
       "      <td>0</td>\n",
       "    </tr>\n",
       "  </tbody>\n",
       "</table>\n",
       "</div>"
      ],
      "text/plain": [
       "     step      type   amount     nameOrig  oldbalanceOrg  newbalanceOrig  \\\n",
       "2       1  TRANSFER    181.0  C1305486145          181.0             0.0   \n",
       "3       1  CASH_OUT    181.0   C840083671          181.0             0.0   \n",
       "251     1  TRANSFER   2806.0  C1420196421         2806.0             0.0   \n",
       "252     1  CASH_OUT   2806.0  C2101527076         2806.0             0.0   \n",
       "680     1  TRANSFER  20128.0   C137533655        20128.0             0.0   \n",
       "\n",
       "        nameDest  oldbalanceDest  newbalanceDest  isFraud  isFlaggedFraud  \n",
       "2     C553264065             0.0             0.0        1               0  \n",
       "3      C38997010         21182.0             0.0        1               0  \n",
       "251   C972765878             0.0             0.0        1               0  \n",
       "252  C1007251739         26202.0             0.0        1               0  \n",
       "680  C1848415041             0.0             0.0        1               0  "
      ]
     },
     "execution_count": 18,
     "metadata": {},
     "output_type": "execute_result"
    }
   ],
   "source": [
    "fraud = df[df.isFraud == 1]\n",
    "fraud.head()"
   ]
  },
  {
   "cell_type": "code",
   "execution_count": 19,
   "id": "9dc2c2eb",
   "metadata": {},
   "outputs": [
    {
     "name": "stdout",
     "output_type": "stream",
     "text": [
      "There are a total of 8213 Fraudulent Transactions in the dataset.\n"
     ]
    }
   ],
   "source": [
    "print(f\"There are a total of {len(fraud)} Fraudulent Transactions in the dataset.\")"
   ]
  },
  {
   "cell_type": "code",
   "execution_count": 20,
   "id": "9fb81b5c",
   "metadata": {},
   "outputs": [
    {
     "name": "stdout",
     "output_type": "stream",
     "text": [
      "A total of 0.19 % of Fraudulent Transactions were Flagged.\n"
     ]
    }
   ],
   "source": [
    "print(f\"A total of {round((len(flagged)/len(fraud)) * 100,2)} % of Fraudulent Transactions were Flagged.\")"
   ]
  },
  {
   "cell_type": "markdown",
   "id": "1796f45f",
   "metadata": {},
   "source": [
    "### Relationship between the Source/Destination and our Target Attribute (isFraud)"
   ]
  },
  {
   "cell_type": "code",
   "execution_count": 21,
   "id": "4238bb82",
   "metadata": {},
   "outputs": [
    {
     "name": "stdout",
     "output_type": "stream",
     "text": [
      "3609566 Transactions had the entire balance of the sender emptied. ie newbalanceOrig = 0\n"
     ]
    }
   ],
   "source": [
    "# Customers whose entire balance was transacted (ie. newbalanceOrig = 0)\n",
    "# and what is their relationship with the Fraudulent Transactions\n",
    "\n",
    "print(str(len(df[df.newbalanceOrig == 0])) + \" Transactions had the entire balance of the sender emptied. ie newbalanceOrig = 0\")"
   ]
  },
  {
   "cell_type": "code",
   "execution_count": 22,
   "id": "d57fa726",
   "metadata": {},
   "outputs": [
    {
     "name": "stdout",
     "output_type": "stream",
     "text": [
      "2704388 Customers had zero balance before Transaction. ie oldbalanceDest = 0\n"
     ]
    }
   ],
   "source": [
    "# Customers whose balance were empty before transaction (ie. oldbalanceDest = 0)\n",
    "# and what is their relationship with the Fraudulent Transactions\n",
    "\n",
    "print(str(len(df[df.oldbalanceDest == 0])) + \" Customers had zero balance before Transaction. ie oldbalanceDest = 0\")"
   ]
  },
  {
   "cell_type": "code",
   "execution_count": 23,
   "id": "abc5de6c",
   "metadata": {},
   "outputs": [
    {
     "data": {
      "text/plain": [
       "0    3601513\n",
       "1       8053\n",
       "Name: isFraud, dtype: int64"
      ]
     },
     "execution_count": 23,
     "metadata": {},
     "output_type": "execute_result"
    }
   ],
   "source": [
    "df.isFraud[df.newbalanceOrig==0].value_counts()"
   ]
  },
  {
   "cell_type": "code",
   "execution_count": 24,
   "id": "b03d5799",
   "metadata": {},
   "outputs": [
    {
     "data": {
      "text/plain": [
       "0    2699037\n",
       "1       5351\n",
       "Name: isFraud, dtype: int64"
      ]
     },
     "execution_count": 24,
     "metadata": {},
     "output_type": "execute_result"
    }
   ],
   "source": [
    "df.isFraud[df.oldbalanceDest==0].value_counts()"
   ]
  },
  {
   "cell_type": "code",
   "execution_count": 25,
   "id": "efeb6992",
   "metadata": {},
   "outputs": [
    {
     "data": {
      "text/plain": [
       "8213"
      ]
     },
     "execution_count": 25,
     "metadata": {},
     "output_type": "execute_result"
    }
   ],
   "source": [
    "len(fraud)"
   ]
  },
  {
   "cell_type": "markdown",
   "id": "9a3e7af1",
   "metadata": {},
   "source": [
    "### ALERT !!!!!\n",
    "\n",
    "From the above observations we can see that of the total `8213` Fraudulent Transactions that took place, In `8053 (98.05%)` of those Transactions the entire balance of the customer was emptied.\n",
    "\n",
    "Additionaly, In `5351 (68.15%)` Fraudulent Transactions the recepient had zero balance before the Transaction."
   ]
  },
  {
   "cell_type": "code",
   "execution_count": 26,
   "id": "ba0f8503",
   "metadata": {},
   "outputs": [
    {
     "data": {
      "text/plain": [
       "(8213, 8053)"
      ]
     },
     "execution_count": 26,
     "metadata": {},
     "output_type": "execute_result"
    }
   ],
   "source": [
    "len(fraud), df.isFraud[df.newbalanceOrig==0].sum()"
   ]
  },
  {
   "cell_type": "code",
   "execution_count": 27,
   "id": "f8354b62",
   "metadata": {},
   "outputs": [
    {
     "data": {
      "text/plain": [
       "(8213, 5351)"
      ]
     },
     "execution_count": 27,
     "metadata": {},
     "output_type": "execute_result"
    }
   ],
   "source": [
    "len(fraud), df.isFraud[df.oldbalanceDest==0].sum()"
   ]
  },
  {
   "cell_type": "code",
   "execution_count": 28,
   "id": "08edae8f",
   "metadata": {},
   "outputs": [
    {
     "name": "stdout",
     "output_type": "stream",
     "text": [
      "In 98.05 % of Fraudulent Transaction the entire balance of the sender(origin) was emptied\n"
     ]
    }
   ],
   "source": [
    "print(f\"In {round(df.isFraud[df.newbalanceOrig==0].sum()/len(fraud) * 100,2)} % of Fraudulent Transaction the entire balance of the sender(origin) was emptied\")"
   ]
  },
  {
   "cell_type": "code",
   "execution_count": 29,
   "id": "d616972c",
   "metadata": {},
   "outputs": [
    {
     "name": "stdout",
     "output_type": "stream",
     "text": [
      "In 65.15 % of Fraudulent Transaction the balance of the recepient was empty before the transaction.\n"
     ]
    }
   ],
   "source": [
    "print(f\"In {round(df.isFraud[df.oldbalanceDest==0].sum()/len(fraud) * 100,2)} % of Fraudulent Transaction the balance of the recepient was empty before the transaction.\")"
   ]
  },
  {
   "cell_type": "code",
   "execution_count": 30,
   "id": "1b646f58",
   "metadata": {},
   "outputs": [
    {
     "data": {
      "text/html": [
       "<div>\n",
       "<style scoped>\n",
       "    .dataframe tbody tr th:only-of-type {\n",
       "        vertical-align: middle;\n",
       "    }\n",
       "\n",
       "    .dataframe tbody tr th {\n",
       "        vertical-align: top;\n",
       "    }\n",
       "\n",
       "    .dataframe thead th {\n",
       "        text-align: right;\n",
       "    }\n",
       "</style>\n",
       "<table border=\"1\" class=\"dataframe\">\n",
       "  <thead>\n",
       "    <tr style=\"text-align: right;\">\n",
       "      <th></th>\n",
       "      <th>Total Fraud</th>\n",
       "      <th>Zero New Bal Orig</th>\n",
       "    </tr>\n",
       "  </thead>\n",
       "  <tbody>\n",
       "    <tr>\n",
       "      <th>0</th>\n",
       "      <td>8213</td>\n",
       "      <td>8053</td>\n",
       "    </tr>\n",
       "  </tbody>\n",
       "</table>\n",
       "</div>"
      ],
      "text/plain": [
       "   Total Fraud  Zero New Bal Orig\n",
       "0         8213               8053"
      ]
     },
     "execution_count": 30,
     "metadata": {},
     "output_type": "execute_result"
    }
   ],
   "source": [
    "pd.DataFrame({df.isFraud[df.newbalanceOrig==0].sum(),len(fraud)}, index=[\"Total Fraud\", \"Zero New Bal Orig\"]).T"
   ]
  },
  {
   "cell_type": "code",
   "execution_count": 31,
   "id": "9add40d4",
   "metadata": {},
   "outputs": [
    {
     "data": {
      "text/html": [
       "<div>\n",
       "<style scoped>\n",
       "    .dataframe tbody tr th:only-of-type {\n",
       "        vertical-align: middle;\n",
       "    }\n",
       "\n",
       "    .dataframe tbody tr th {\n",
       "        vertical-align: top;\n",
       "    }\n",
       "\n",
       "    .dataframe thead th {\n",
       "        text-align: right;\n",
       "    }\n",
       "</style>\n",
       "<table border=\"1\" class=\"dataframe\">\n",
       "  <thead>\n",
       "    <tr style=\"text-align: right;\">\n",
       "      <th></th>\n",
       "      <th>Total Fraud</th>\n",
       "      <th>Zero old Bal Dest</th>\n",
       "    </tr>\n",
       "  </thead>\n",
       "  <tbody>\n",
       "    <tr>\n",
       "      <th>0</th>\n",
       "      <td>8213</td>\n",
       "      <td>5351</td>\n",
       "    </tr>\n",
       "  </tbody>\n",
       "</table>\n",
       "</div>"
      ],
      "text/plain": [
       "   Total Fraud  Zero old Bal Dest\n",
       "0         8213               5351"
      ]
     },
     "execution_count": 31,
     "metadata": {},
     "output_type": "execute_result"
    }
   ],
   "source": [
    "pd.DataFrame({df.isFraud[df.oldbalanceDest==0].sum(),len(fraud)}, index=[\"Total Fraud\", \"Zero old Bal Dest\"]).T"
   ]
  },
  {
   "cell_type": "markdown",
   "id": "dce86f7d",
   "metadata": {},
   "source": [
    "### Correlation between independent variables\n",
    "Finally, we'll compare all of the independent variables in one hit.\n",
    "\n",
    "This may give an idea of which independent variables may or may not have an impact on our target variable.\n",
    "\n",
    "We can do this using `df.corr()` which will create a **correlation matrix** for us, in other words, a big table of numbers telling us how related each variable is the other."
   ]
  },
  {
   "cell_type": "code",
   "execution_count": 338,
   "id": "133d91d4",
   "metadata": {},
   "outputs": [
    {
     "data": {
      "text/html": [
       "<div>\n",
       "<style scoped>\n",
       "    .dataframe tbody tr th:only-of-type {\n",
       "        vertical-align: middle;\n",
       "    }\n",
       "\n",
       "    .dataframe tbody tr th {\n",
       "        vertical-align: top;\n",
       "    }\n",
       "\n",
       "    .dataframe thead th {\n",
       "        text-align: right;\n",
       "    }\n",
       "</style>\n",
       "<table border=\"1\" class=\"dataframe\">\n",
       "  <thead>\n",
       "    <tr style=\"text-align: right;\">\n",
       "      <th></th>\n",
       "      <th>step</th>\n",
       "      <th>amount</th>\n",
       "      <th>oldbalanceOrg</th>\n",
       "      <th>newbalanceOrig</th>\n",
       "      <th>oldbalanceDest</th>\n",
       "      <th>newbalanceDest</th>\n",
       "      <th>isFraud</th>\n",
       "      <th>isFlaggedFraud</th>\n",
       "    </tr>\n",
       "  </thead>\n",
       "  <tbody>\n",
       "    <tr>\n",
       "      <th>step</th>\n",
       "      <td>1.000000</td>\n",
       "      <td>0.022373</td>\n",
       "      <td>-0.010058</td>\n",
       "      <td>-0.010299</td>\n",
       "      <td>0.027665</td>\n",
       "      <td>0.025888</td>\n",
       "      <td>0.031578</td>\n",
       "      <td>0.003277</td>\n",
       "    </tr>\n",
       "    <tr>\n",
       "      <th>amount</th>\n",
       "      <td>0.022373</td>\n",
       "      <td>1.000000</td>\n",
       "      <td>-0.002762</td>\n",
       "      <td>-0.007861</td>\n",
       "      <td>0.294137</td>\n",
       "      <td>0.459304</td>\n",
       "      <td>0.076688</td>\n",
       "      <td>0.012295</td>\n",
       "    </tr>\n",
       "    <tr>\n",
       "      <th>oldbalanceOrg</th>\n",
       "      <td>-0.010058</td>\n",
       "      <td>-0.002762</td>\n",
       "      <td>1.000000</td>\n",
       "      <td>0.998803</td>\n",
       "      <td>0.066243</td>\n",
       "      <td>0.042029</td>\n",
       "      <td>0.010154</td>\n",
       "      <td>0.003835</td>\n",
       "    </tr>\n",
       "    <tr>\n",
       "      <th>newbalanceOrig</th>\n",
       "      <td>-0.010299</td>\n",
       "      <td>-0.007861</td>\n",
       "      <td>0.998803</td>\n",
       "      <td>1.000000</td>\n",
       "      <td>0.067812</td>\n",
       "      <td>0.041837</td>\n",
       "      <td>-0.008148</td>\n",
       "      <td>0.003776</td>\n",
       "    </tr>\n",
       "    <tr>\n",
       "      <th>oldbalanceDest</th>\n",
       "      <td>0.027665</td>\n",
       "      <td>0.294137</td>\n",
       "      <td>0.066243</td>\n",
       "      <td>0.067812</td>\n",
       "      <td>1.000000</td>\n",
       "      <td>0.976569</td>\n",
       "      <td>-0.005885</td>\n",
       "      <td>-0.000513</td>\n",
       "    </tr>\n",
       "    <tr>\n",
       "      <th>newbalanceDest</th>\n",
       "      <td>0.025888</td>\n",
       "      <td>0.459304</td>\n",
       "      <td>0.042029</td>\n",
       "      <td>0.041837</td>\n",
       "      <td>0.976569</td>\n",
       "      <td>1.000000</td>\n",
       "      <td>0.000535</td>\n",
       "      <td>-0.000529</td>\n",
       "    </tr>\n",
       "    <tr>\n",
       "      <th>isFraud</th>\n",
       "      <td>0.031578</td>\n",
       "      <td>0.076688</td>\n",
       "      <td>0.010154</td>\n",
       "      <td>-0.008148</td>\n",
       "      <td>-0.005885</td>\n",
       "      <td>0.000535</td>\n",
       "      <td>1.000000</td>\n",
       "      <td>0.044109</td>\n",
       "    </tr>\n",
       "    <tr>\n",
       "      <th>isFlaggedFraud</th>\n",
       "      <td>0.003277</td>\n",
       "      <td>0.012295</td>\n",
       "      <td>0.003835</td>\n",
       "      <td>0.003776</td>\n",
       "      <td>-0.000513</td>\n",
       "      <td>-0.000529</td>\n",
       "      <td>0.044109</td>\n",
       "      <td>1.000000</td>\n",
       "    </tr>\n",
       "  </tbody>\n",
       "</table>\n",
       "</div>"
      ],
      "text/plain": [
       "                    step    amount  oldbalanceOrg  newbalanceOrig  \\\n",
       "step            1.000000  0.022373      -0.010058       -0.010299   \n",
       "amount          0.022373  1.000000      -0.002762       -0.007861   \n",
       "oldbalanceOrg  -0.010058 -0.002762       1.000000        0.998803   \n",
       "newbalanceOrig -0.010299 -0.007861       0.998803        1.000000   \n",
       "oldbalanceDest  0.027665  0.294137       0.066243        0.067812   \n",
       "newbalanceDest  0.025888  0.459304       0.042029        0.041837   \n",
       "isFraud         0.031578  0.076688       0.010154       -0.008148   \n",
       "isFlaggedFraud  0.003277  0.012295       0.003835        0.003776   \n",
       "\n",
       "                oldbalanceDest  newbalanceDest   isFraud  isFlaggedFraud  \n",
       "step                  0.027665        0.025888  0.031578        0.003277  \n",
       "amount                0.294137        0.459304  0.076688        0.012295  \n",
       "oldbalanceOrg         0.066243        0.042029  0.010154        0.003835  \n",
       "newbalanceOrig        0.067812        0.041837 -0.008148        0.003776  \n",
       "oldbalanceDest        1.000000        0.976569 -0.005885       -0.000513  \n",
       "newbalanceDest        0.976569        1.000000  0.000535       -0.000529  \n",
       "isFraud              -0.005885        0.000535  1.000000        0.044109  \n",
       "isFlaggedFraud       -0.000513       -0.000529  0.044109        1.000000  "
      ]
     },
     "execution_count": 338,
     "metadata": {},
     "output_type": "execute_result"
    }
   ],
   "source": [
    "df.corr()"
   ]
  },
  {
   "cell_type": "code",
   "execution_count": 339,
   "id": "5b14c643",
   "metadata": {},
   "outputs": [
    {
     "data": {
      "text/plain": [
       "<AxesSubplot:>"
      ]
     },
     "execution_count": 339,
     "metadata": {},
     "output_type": "execute_result"
    },
    {
     "data": {
      "image/png": "[encoded data removed]",
      "text/plain": [
       "<Figure size 1080x576 with 2 Axes>"
      ]
     },
     "metadata": {
      "needs_background": "light"
     },
     "output_type": "display_data"
    }
   ],
   "source": [
    "corr_matrix = df.corr()\n",
    "plt.figure(figsize=(15,8))\n",
    "sns.heatmap(corr_matrix,\n",
    "            annot=True,\n",
    "            linewidths=0.15,\n",
    "            fmt=\".2f\")"
   ]
  },
  {
   "cell_type": "markdown",
   "id": "bb43de7a",
   "metadata": {},
   "source": [
    "## Modeling\n",
    "We've explored the data, now we'll try to use machine learning to predict our target variable based on the 13 independent variables.\n",
    "\n",
    "Remember our problem?\n",
    "\n",
    "` ` Given transactional parameters about a transaction, can we predict whether or not it is fraudulent?\n",
    "\n",
    "That's what we'll be trying to answer.\n",
    "\n",
    "Our evaluation metric?\n",
    "\n",
    "` ` If we can reach 95% accuracy at predicting whether or not a transaction is fraudulent during the proof of concept, we'll pursure this project.\n",
    "\n",
    "That's what we'll be aiming for.\n",
    "\n",
    "But before we build a model, we have to get our dataset ready."
   ]
  },
  {
   "cell_type": "code",
   "execution_count": 4,
   "id": "0996d053",
   "metadata": {},
   "outputs": [],
   "source": [
    "# Everything except target variable\n",
    "X = df.drop(\"isFraud\", axis=1)\n",
    "\n",
    "# Target variable\n",
    "y = df.isFraud.values"
   ]
  },
  {
   "cell_type": "code",
   "execution_count": 5,
   "id": "9825bbfd",
   "metadata": {},
   "outputs": [
    {
     "data": {
      "text/html": [
       "<div>\n",
       "<style scoped>\n",
       "    .dataframe tbody tr th:only-of-type {\n",
       "        vertical-align: middle;\n",
       "    }\n",
       "\n",
       "    .dataframe tbody tr th {\n",
       "        vertical-align: top;\n",
       "    }\n",
       "\n",
       "    .dataframe thead th {\n",
       "        text-align: right;\n",
       "    }\n",
       "</style>\n",
       "<table border=\"1\" class=\"dataframe\">\n",
       "  <thead>\n",
       "    <tr style=\"text-align: right;\">\n",
       "      <th></th>\n",
       "      <th>step</th>\n",
       "      <th>type</th>\n",
       "      <th>amount</th>\n",
       "      <th>nameOrig</th>\n",
       "      <th>oldbalanceOrg</th>\n",
       "      <th>newbalanceOrig</th>\n",
       "      <th>nameDest</th>\n",
       "      <th>oldbalanceDest</th>\n",
       "      <th>newbalanceDest</th>\n",
       "      <th>isFlaggedFraud</th>\n",
       "    </tr>\n",
       "  </thead>\n",
       "  <tbody>\n",
       "    <tr>\n",
       "      <th>0</th>\n",
       "      <td>1</td>\n",
       "      <td>PAYMENT</td>\n",
       "      <td>9839.64</td>\n",
       "      <td>C1231006815</td>\n",
       "      <td>170136.0</td>\n",
       "      <td>160296.36</td>\n",
       "      <td>M1979787155</td>\n",
       "      <td>0.0</td>\n",
       "      <td>0.0</td>\n",
       "      <td>0</td>\n",
       "    </tr>\n",
       "    <tr>\n",
       "      <th>1</th>\n",
       "      <td>1</td>\n",
       "      <td>PAYMENT</td>\n",
       "      <td>1864.28</td>\n",
       "      <td>C1666544295</td>\n",
       "      <td>21249.0</td>\n",
       "      <td>19384.72</td>\n",
       "      <td>M2044282225</td>\n",
       "      <td>0.0</td>\n",
       "      <td>0.0</td>\n",
       "      <td>0</td>\n",
       "    </tr>\n",
       "    <tr>\n",
       "      <th>2</th>\n",
       "      <td>1</td>\n",
       "      <td>TRANSFER</td>\n",
       "      <td>181.00</td>\n",
       "      <td>C1305486145</td>\n",
       "      <td>181.0</td>\n",
       "      <td>0.00</td>\n",
       "      <td>C553264065</td>\n",
       "      <td>0.0</td>\n",
       "      <td>0.0</td>\n",
       "      <td>0</td>\n",
       "    </tr>\n",
       "    <tr>\n",
       "      <th>3</th>\n",
       "      <td>1</td>\n",
       "      <td>CASH_OUT</td>\n",
       "      <td>181.00</td>\n",
       "      <td>C840083671</td>\n",
       "      <td>181.0</td>\n",
       "      <td>0.00</td>\n",
       "      <td>C38997010</td>\n",
       "      <td>21182.0</td>\n",
       "      <td>0.0</td>\n",
       "      <td>0</td>\n",
       "    </tr>\n",
       "    <tr>\n",
       "      <th>4</th>\n",
       "      <td>1</td>\n",
       "      <td>PAYMENT</td>\n",
       "      <td>11668.14</td>\n",
       "      <td>C2048537720</td>\n",
       "      <td>41554.0</td>\n",
       "      <td>29885.86</td>\n",
       "      <td>M1230701703</td>\n",
       "      <td>0.0</td>\n",
       "      <td>0.0</td>\n",
       "      <td>0</td>\n",
       "    </tr>\n",
       "  </tbody>\n",
       "</table>\n",
       "</div>"
      ],
      "text/plain": [
       "   step      type    amount     nameOrig  oldbalanceOrg  newbalanceOrig  \\\n",
       "0     1   PAYMENT   9839.64  C1231006815       170136.0       160296.36   \n",
       "1     1   PAYMENT   1864.28  C1666544295        21249.0        19384.72   \n",
       "2     1  TRANSFER    181.00  C1305486145          181.0            0.00   \n",
       "3     1  CASH_OUT    181.00   C840083671          181.0            0.00   \n",
       "4     1   PAYMENT  11668.14  C2048537720        41554.0        29885.86   \n",
       "\n",
       "      nameDest  oldbalanceDest  newbalanceDest  isFlaggedFraud  \n",
       "0  M1979787155             0.0             0.0               0  \n",
       "1  M2044282225             0.0             0.0               0  \n",
       "2   C553264065             0.0             0.0               0  \n",
       "3    C38997010         21182.0             0.0               0  \n",
       "4  M1230701703             0.0             0.0               0  "
      ]
     },
     "execution_count": 5,
     "metadata": {},
     "output_type": "execute_result"
    }
   ],
   "source": [
    "X.head()"
   ]
  },
  {
   "cell_type": "code",
   "execution_count": 6,
   "id": "26de76e8",
   "metadata": {},
   "outputs": [
    {
     "data": {
      "text/plain": [
       "array([0, 0, 1, 1, 0], dtype=int64)"
      ]
     },
     "execution_count": 6,
     "metadata": {},
     "output_type": "execute_result"
    }
   ],
   "source": [
    "y[:5]"
   ]
  },
  {
   "cell_type": "markdown",
   "id": "6d4d41d2",
   "metadata": {},
   "source": [
    "### Transforming to Numerical Data"
   ]
  },
  {
   "cell_type": "code",
   "execution_count": 7,
   "id": "82d01e5c",
   "metadata": {},
   "outputs": [],
   "source": [
    "nameOrigin = []\n",
    "for i in range(0, len(df)):\n",
    "    nameOrigin.append(int(df.nameOrig[i].split(\"C\")[1]))\n",
    "    "
   ]
  },
  {
   "cell_type": "code",
   "execution_count": 8,
   "id": "1e5db109",
   "metadata": {},
   "outputs": [
    {
     "data": {
      "text/plain": [
       "(6362620, 6362620)"
      ]
     },
     "execution_count": 8,
     "metadata": {},
     "output_type": "execute_result"
    }
   ],
   "source": [
    "len(nameOrigin), len(df)"
   ]
  },
  {
   "cell_type": "code",
   "execution_count": 10,
   "id": "bd371884",
   "metadata": {},
   "outputs": [
    {
     "data": {
      "text/html": [
       "<div>\n",
       "<style scoped>\n",
       "    .dataframe tbody tr th:only-of-type {\n",
       "        vertical-align: middle;\n",
       "    }\n",
       "\n",
       "    .dataframe tbody tr th {\n",
       "        vertical-align: top;\n",
       "    }\n",
       "\n",
       "    .dataframe thead th {\n",
       "        text-align: right;\n",
       "    }\n",
       "</style>\n",
       "<table border=\"1\" class=\"dataframe\">\n",
       "  <thead>\n",
       "    <tr style=\"text-align: right;\">\n",
       "      <th></th>\n",
       "      <th>step</th>\n",
       "      <th>type</th>\n",
       "      <th>amount</th>\n",
       "      <th>nameOrig</th>\n",
       "      <th>oldbalanceOrg</th>\n",
       "      <th>newbalanceOrig</th>\n",
       "      <th>nameDest</th>\n",
       "      <th>oldbalanceDest</th>\n",
       "      <th>newbalanceDest</th>\n",
       "      <th>isFlaggedFraud</th>\n",
       "    </tr>\n",
       "  </thead>\n",
       "  <tbody>\n",
       "    <tr>\n",
       "      <th>0</th>\n",
       "      <td>1</td>\n",
       "      <td>PAYMENT</td>\n",
       "      <td>9839.64</td>\n",
       "      <td>1231006815</td>\n",
       "      <td>170136.0</td>\n",
       "      <td>160296.36</td>\n",
       "      <td>M1979787155</td>\n",
       "      <td>0.0</td>\n",
       "      <td>0.0</td>\n",
       "      <td>0</td>\n",
       "    </tr>\n",
       "    <tr>\n",
       "      <th>1</th>\n",
       "      <td>1</td>\n",
       "      <td>PAYMENT</td>\n",
       "      <td>1864.28</td>\n",
       "      <td>1666544295</td>\n",
       "      <td>21249.0</td>\n",
       "      <td>19384.72</td>\n",
       "      <td>M2044282225</td>\n",
       "      <td>0.0</td>\n",
       "      <td>0.0</td>\n",
       "      <td>0</td>\n",
       "    </tr>\n",
       "    <tr>\n",
       "      <th>2</th>\n",
       "      <td>1</td>\n",
       "      <td>TRANSFER</td>\n",
       "      <td>181.00</td>\n",
       "      <td>1305486145</td>\n",
       "      <td>181.0</td>\n",
       "      <td>0.00</td>\n",
       "      <td>C553264065</td>\n",
       "      <td>0.0</td>\n",
       "      <td>0.0</td>\n",
       "      <td>0</td>\n",
       "    </tr>\n",
       "    <tr>\n",
       "      <th>3</th>\n",
       "      <td>1</td>\n",
       "      <td>CASH_OUT</td>\n",
       "      <td>181.00</td>\n",
       "      <td>840083671</td>\n",
       "      <td>181.0</td>\n",
       "      <td>0.00</td>\n",
       "      <td>C38997010</td>\n",
       "      <td>21182.0</td>\n",
       "      <td>0.0</td>\n",
       "      <td>0</td>\n",
       "    </tr>\n",
       "    <tr>\n",
       "      <th>4</th>\n",
       "      <td>1</td>\n",
       "      <td>PAYMENT</td>\n",
       "      <td>11668.14</td>\n",
       "      <td>2048537720</td>\n",
       "      <td>41554.0</td>\n",
       "      <td>29885.86</td>\n",
       "      <td>M1230701703</td>\n",
       "      <td>0.0</td>\n",
       "      <td>0.0</td>\n",
       "      <td>0</td>\n",
       "    </tr>\n",
       "  </tbody>\n",
       "</table>\n",
       "</div>"
      ],
      "text/plain": [
       "   step      type    amount    nameOrig  oldbalanceOrg  newbalanceOrig  \\\n",
       "0     1   PAYMENT   9839.64  1231006815       170136.0       160296.36   \n",
       "1     1   PAYMENT   1864.28  1666544295        21249.0        19384.72   \n",
       "2     1  TRANSFER    181.00  1305486145          181.0            0.00   \n",
       "3     1  CASH_OUT    181.00   840083671          181.0            0.00   \n",
       "4     1   PAYMENT  11668.14  2048537720        41554.0        29885.86   \n",
       "\n",
       "      nameDest  oldbalanceDest  newbalanceDest  isFlaggedFraud  \n",
       "0  M1979787155             0.0             0.0               0  \n",
       "1  M2044282225             0.0             0.0               0  \n",
       "2   C553264065             0.0             0.0               0  \n",
       "3    C38997010         21182.0             0.0               0  \n",
       "4  M1230701703             0.0             0.0               0  "
      ]
     },
     "execution_count": 10,
     "metadata": {},
     "output_type": "execute_result"
    }
   ],
   "source": [
    "X.nameOrig = nameOrigin\n",
    "X.head()"
   ]
  },
  {
   "cell_type": "code",
   "execution_count": 9,
   "id": "f4fe9a56",
   "metadata": {},
   "outputs": [
    {
     "data": {
      "text/plain": [
       "6362620"
      ]
     },
     "execution_count": 9,
     "metadata": {},
     "output_type": "execute_result"
    }
   ],
   "source": [
    "nameDestination = []\n",
    "for i in range(0, len(df)):\n",
    "    if (df.nameDest[i][0] == 'M'):\n",
    "        nameDestination.append(int(df.nameDest[i].split(\"M\")[1]))\n",
    "    else:\n",
    "        nameDestination.append(int(df.nameDest[i].split(\"C\")[1]))\n",
    "    \n",
    "len(nameDestination)"
   ]
  },
  {
   "cell_type": "code",
   "execution_count": 11,
   "id": "0afe9e1b",
   "metadata": {},
   "outputs": [
    {
     "data": {
      "text/html": [
       "<div>\n",
       "<style scoped>\n",
       "    .dataframe tbody tr th:only-of-type {\n",
       "        vertical-align: middle;\n",
       "    }\n",
       "\n",
       "    .dataframe tbody tr th {\n",
       "        vertical-align: top;\n",
       "    }\n",
       "\n",
       "    .dataframe thead th {\n",
       "        text-align: right;\n",
       "    }\n",
       "</style>\n",
       "<table border=\"1\" class=\"dataframe\">\n",
       "  <thead>\n",
       "    <tr style=\"text-align: right;\">\n",
       "      <th></th>\n",
       "      <th>step</th>\n",
       "      <th>type</th>\n",
       "      <th>amount</th>\n",
       "      <th>nameOrig</th>\n",
       "      <th>oldbalanceOrg</th>\n",
       "      <th>newbalanceOrig</th>\n",
       "      <th>nameDest</th>\n",
       "      <th>oldbalanceDest</th>\n",
       "      <th>newbalanceDest</th>\n",
       "      <th>isFlaggedFraud</th>\n",
       "    </tr>\n",
       "  </thead>\n",
       "  <tbody>\n",
       "    <tr>\n",
       "      <th>0</th>\n",
       "      <td>1</td>\n",
       "      <td>PAYMENT</td>\n",
       "      <td>9839.64</td>\n",
       "      <td>1231006815</td>\n",
       "      <td>170136.0</td>\n",
       "      <td>160296.36</td>\n",
       "      <td>1979787155</td>\n",
       "      <td>0.0</td>\n",
       "      <td>0.0</td>\n",
       "      <td>0</td>\n",
       "    </tr>\n",
       "    <tr>\n",
       "      <th>1</th>\n",
       "      <td>1</td>\n",
       "      <td>PAYMENT</td>\n",
       "      <td>1864.28</td>\n",
       "      <td>1666544295</td>\n",
       "      <td>21249.0</td>\n",
       "      <td>19384.72</td>\n",
       "      <td>2044282225</td>\n",
       "      <td>0.0</td>\n",
       "      <td>0.0</td>\n",
       "      <td>0</td>\n",
       "    </tr>\n",
       "    <tr>\n",
       "      <th>2</th>\n",
       "      <td>1</td>\n",
       "      <td>TRANSFER</td>\n",
       "      <td>181.00</td>\n",
       "      <td>1305486145</td>\n",
       "      <td>181.0</td>\n",
       "      <td>0.00</td>\n",
       "      <td>553264065</td>\n",
       "      <td>0.0</td>\n",
       "      <td>0.0</td>\n",
       "      <td>0</td>\n",
       "    </tr>\n",
       "    <tr>\n",
       "      <th>3</th>\n",
       "      <td>1</td>\n",
       "      <td>CASH_OUT</td>\n",
       "      <td>181.00</td>\n",
       "      <td>840083671</td>\n",
       "      <td>181.0</td>\n",
       "      <td>0.00</td>\n",
       "      <td>38997010</td>\n",
       "      <td>21182.0</td>\n",
       "      <td>0.0</td>\n",
       "      <td>0</td>\n",
       "    </tr>\n",
       "    <tr>\n",
       "      <th>4</th>\n",
       "      <td>1</td>\n",
       "      <td>PAYMENT</td>\n",
       "      <td>11668.14</td>\n",
       "      <td>2048537720</td>\n",
       "      <td>41554.0</td>\n",
       "      <td>29885.86</td>\n",
       "      <td>1230701703</td>\n",
       "      <td>0.0</td>\n",
       "      <td>0.0</td>\n",
       "      <td>0</td>\n",
       "    </tr>\n",
       "  </tbody>\n",
       "</table>\n",
       "</div>"
      ],
      "text/plain": [
       "   step      type    amount    nameOrig  oldbalanceOrg  newbalanceOrig  \\\n",
       "0     1   PAYMENT   9839.64  1231006815       170136.0       160296.36   \n",
       "1     1   PAYMENT   1864.28  1666544295        21249.0        19384.72   \n",
       "2     1  TRANSFER    181.00  1305486145          181.0            0.00   \n",
       "3     1  CASH_OUT    181.00   840083671          181.0            0.00   \n",
       "4     1   PAYMENT  11668.14  2048537720        41554.0        29885.86   \n",
       "\n",
       "     nameDest  oldbalanceDest  newbalanceDest  isFlaggedFraud  \n",
       "0  1979787155             0.0             0.0               0  \n",
       "1  2044282225             0.0             0.0               0  \n",
       "2   553264065             0.0             0.0               0  \n",
       "3    38997010         21182.0             0.0               0  \n",
       "4  1230701703             0.0             0.0               0  "
      ]
     },
     "execution_count": 11,
     "metadata": {},
     "output_type": "execute_result"
    }
   ],
   "source": [
    "X.nameDest = nameDestination\n",
    "X.head()"
   ]
  },
  {
   "cell_type": "code",
   "execution_count": 12,
   "id": "a8fd7a08",
   "metadata": {},
   "outputs": [
    {
     "data": {
      "text/html": [
       "<div>\n",
       "<style scoped>\n",
       "    .dataframe tbody tr th:only-of-type {\n",
       "        vertical-align: middle;\n",
       "    }\n",
       "\n",
       "    .dataframe tbody tr th {\n",
       "        vertical-align: top;\n",
       "    }\n",
       "\n",
       "    .dataframe thead th {\n",
       "        text-align: right;\n",
       "    }\n",
       "</style>\n",
       "<table border=\"1\" class=\"dataframe\">\n",
       "  <thead>\n",
       "    <tr style=\"text-align: right;\">\n",
       "      <th></th>\n",
       "      <th>step</th>\n",
       "      <th>type</th>\n",
       "      <th>amount</th>\n",
       "      <th>nameOrig</th>\n",
       "      <th>oldbalanceOrg</th>\n",
       "      <th>newbalanceOrig</th>\n",
       "      <th>nameDest</th>\n",
       "      <th>oldbalanceDest</th>\n",
       "      <th>newbalanceDest</th>\n",
       "      <th>isFlaggedFraud</th>\n",
       "    </tr>\n",
       "  </thead>\n",
       "  <tbody>\n",
       "    <tr>\n",
       "      <th>0</th>\n",
       "      <td>1</td>\n",
       "      <td>3</td>\n",
       "      <td>9839.64</td>\n",
       "      <td>1231006815</td>\n",
       "      <td>170136.0</td>\n",
       "      <td>160296.36</td>\n",
       "      <td>1979787155</td>\n",
       "      <td>0.0</td>\n",
       "      <td>0.0</td>\n",
       "      <td>0</td>\n",
       "    </tr>\n",
       "    <tr>\n",
       "      <th>1</th>\n",
       "      <td>1</td>\n",
       "      <td>3</td>\n",
       "      <td>1864.28</td>\n",
       "      <td>1666544295</td>\n",
       "      <td>21249.0</td>\n",
       "      <td>19384.72</td>\n",
       "      <td>2044282225</td>\n",
       "      <td>0.0</td>\n",
       "      <td>0.0</td>\n",
       "      <td>0</td>\n",
       "    </tr>\n",
       "    <tr>\n",
       "      <th>2</th>\n",
       "      <td>1</td>\n",
       "      <td>4</td>\n",
       "      <td>181.00</td>\n",
       "      <td>1305486145</td>\n",
       "      <td>181.0</td>\n",
       "      <td>0.00</td>\n",
       "      <td>553264065</td>\n",
       "      <td>0.0</td>\n",
       "      <td>0.0</td>\n",
       "      <td>0</td>\n",
       "    </tr>\n",
       "    <tr>\n",
       "      <th>3</th>\n",
       "      <td>1</td>\n",
       "      <td>1</td>\n",
       "      <td>181.00</td>\n",
       "      <td>840083671</td>\n",
       "      <td>181.0</td>\n",
       "      <td>0.00</td>\n",
       "      <td>38997010</td>\n",
       "      <td>21182.0</td>\n",
       "      <td>0.0</td>\n",
       "      <td>0</td>\n",
       "    </tr>\n",
       "    <tr>\n",
       "      <th>4</th>\n",
       "      <td>1</td>\n",
       "      <td>3</td>\n",
       "      <td>11668.14</td>\n",
       "      <td>2048537720</td>\n",
       "      <td>41554.0</td>\n",
       "      <td>29885.86</td>\n",
       "      <td>1230701703</td>\n",
       "      <td>0.0</td>\n",
       "      <td>0.0</td>\n",
       "      <td>0</td>\n",
       "    </tr>\n",
       "  </tbody>\n",
       "</table>\n",
       "</div>"
      ],
      "text/plain": [
       "   step  type    amount    nameOrig  oldbalanceOrg  newbalanceOrig  \\\n",
       "0     1     3   9839.64  1231006815       170136.0       160296.36   \n",
       "1     1     3   1864.28  1666544295        21249.0        19384.72   \n",
       "2     1     4    181.00  1305486145          181.0            0.00   \n",
       "3     1     1    181.00   840083671          181.0            0.00   \n",
       "4     1     3  11668.14  2048537720        41554.0        29885.86   \n",
       "\n",
       "     nameDest  oldbalanceDest  newbalanceDest  isFlaggedFraud  \n",
       "0  1979787155             0.0             0.0               0  \n",
       "1  2044282225             0.0             0.0               0  \n",
       "2   553264065             0.0             0.0               0  \n",
       "3    38997010         21182.0             0.0               0  \n",
       "4  1230701703             0.0             0.0               0  "
      ]
     },
     "execution_count": 12,
     "metadata": {},
     "output_type": "execute_result"
    }
   ],
   "source": [
    "## Label Encoding transaction type\n",
    "X[\"type\"] = X[\"type\"].astype('category')\n",
    "X[\"type\"] = X[\"type\"].cat.codes\n",
    "X.head()"
   ]
  },
  {
   "cell_type": "markdown",
   "id": "db3d14af",
   "metadata": {},
   "source": [
    "### Training, Validation and Test Split\n",
    "Now comes one of the most important concepts in machine learning, the training/test split.\n",
    "\n",
    "This is where we'll split our data into a training set, validation set and a test set.\n",
    "\n"
   ]
  },
  {
   "cell_type": "code",
   "execution_count": 13,
   "id": "d86f0bbd",
   "metadata": {},
   "outputs": [],
   "source": [
    "np.random.seed(42) \n",
    "\n",
    "X_train, X_test, y_train, y_test = train_test_split(X, y, test_size=0.2)\n",
    "X_train, X_val, y_train, y_val = train_test_split(X_train, y_train, test_size=0.2)"
   ]
  },
  {
   "cell_type": "code",
   "execution_count": 14,
   "id": "75372c08",
   "metadata": {},
   "outputs": [
    {
     "data": {
      "text/plain": [
       "(4072076, 1018020, 1272524)"
      ]
     },
     "execution_count": 14,
     "metadata": {},
     "output_type": "execute_result"
    }
   ],
   "source": [
    "len(X_train),len(X_val),len(X_test)"
   ]
  },
  {
   "cell_type": "markdown",
   "id": "c56fa359",
   "metadata": {},
   "source": [
    "## Model choices\n",
    "Now we've got our data prepared, we can start to fit models. We'll be using the following model.\n",
    "\n",
    "* RandomForest           -     `RandomForestClassifier()`"
   ]
  },
  {
   "cell_type": "code",
   "execution_count": 15,
   "id": "a8bf757d",
   "metadata": {},
   "outputs": [
    {
     "name": "stderr",
     "output_type": "stream",
     "text": [
      "[Parallel(n_jobs=1)]: Using backend SequentialBackend with 1 concurrent workers.\n"
     ]
    },
    {
     "name": "stdout",
     "output_type": "stream",
     "text": [
      "building tree 1 of 100\n"
     ]
    },
    {
     "name": "stderr",
     "output_type": "stream",
     "text": [
      "[Parallel(n_jobs=1)]: Done   1 out of   1 | elapsed:   37.3s remaining:    0.0s\n"
     ]
    },
    {
     "name": "stdout",
     "output_type": "stream",
     "text": [
      "building tree 2 of 100\n",
      "building tree 3 of 100\n",
      "building tree 4 of 100\n",
      "building tree 5 of 100\n",
      "building tree 6 of 100\n",
      "building tree 7 of 100\n",
      "building tree 8 of 100\n",
      "building tree 9 of 100\n",
      "building tree 10 of 100\n",
      "building tree 11 of 100\n",
      "building tree 12 of 100\n",
      "building tree 13 of 100\n",
      "building tree 14 of 100\n",
      "building tree 15 of 100\n",
      "building tree 16 of 100\n",
      "building tree 17 of 100\n",
      "building tree 18 of 100\n",
      "building tree 19 of 100\n",
      "building tree 20 of 100\n",
      "building tree 21 of 100\n",
      "building tree 22 of 100\n",
      "building tree 23 of 100\n",
      "building tree 24 of 100\n",
      "building tree 25 of 100\n",
      "building tree 26 of 100\n",
      "building tree 27 of 100\n",
      "building tree 28 of 100\n",
      "building tree 29 of 100\n",
      "building tree 30 of 100\n",
      "building tree 31 of 100\n",
      "building tree 32 of 100\n",
      "building tree 33 of 100\n",
      "building tree 34 of 100\n",
      "building tree 35 of 100\n",
      "building tree 36 of 100\n",
      "building tree 37 of 100\n",
      "building tree 38 of 100\n",
      "building tree 39 of 100\n",
      "building tree 40 of 100\n",
      "building tree 41 of 100\n",
      "building tree 42 of 100\n",
      "building tree 43 of 100\n",
      "building tree 44 of 100\n",
      "building tree 45 of 100\n",
      "building tree 46 of 100\n",
      "building tree 47 of 100\n",
      "building tree 48 of 100\n",
      "building tree 49 of 100\n",
      "building tree 50 of 100\n",
      "building tree 51 of 100\n",
      "building tree 52 of 100\n",
      "building tree 53 of 100\n",
      "building tree 54 of 100\n",
      "building tree 55 of 100\n",
      "building tree 56 of 100\n",
      "building tree 57 of 100\n",
      "building tree 58 of 100\n",
      "building tree 59 of 100\n",
      "building tree 60 of 100\n",
      "building tree 61 of 100\n",
      "building tree 62 of 100\n",
      "building tree 63 of 100\n",
      "building tree 64 of 100\n",
      "building tree 65 of 100\n",
      "building tree 66 of 100\n",
      "building tree 67 of 100\n",
      "building tree 68 of 100\n",
      "building tree 69 of 100\n",
      "building tree 70 of 100\n",
      "building tree 71 of 100\n",
      "building tree 72 of 100\n",
      "building tree 73 of 100\n",
      "building tree 74 of 100\n",
      "building tree 75 of 100\n",
      "building tree 76 of 100\n",
      "building tree 77 of 100\n",
      "building tree 78 of 100\n",
      "building tree 79 of 100\n",
      "building tree 80 of 100\n",
      "building tree 81 of 100\n",
      "building tree 82 of 100\n",
      "building tree 83 of 100\n",
      "building tree 84 of 100\n",
      "building tree 85 of 100\n",
      "building tree 86 of 100\n",
      "building tree 87 of 100\n",
      "building tree 88 of 100\n",
      "building tree 89 of 100\n",
      "building tree 90 of 100\n",
      "building tree 91 of 100\n",
      "building tree 92 of 100\n",
      "building tree 93 of 100\n",
      "building tree 94 of 100\n",
      "building tree 95 of 100\n",
      "building tree 96 of 100\n",
      "building tree 97 of 100\n",
      "building tree 98 of 100\n",
      "building tree 99 of 100\n",
      "building tree 100 of 100\n"
     ]
    },
    {
     "name": "stderr",
     "output_type": "stream",
     "text": [
      "[Parallel(n_jobs=1)]: Done 100 out of 100 | elapsed: 51.3min finished\n",
      "[Parallel(n_jobs=1)]: Using backend SequentialBackend with 1 concurrent workers.\n",
      "[Parallel(n_jobs=1)]: Done   1 out of   1 | elapsed:    0.2s remaining:    0.0s\n",
      "[Parallel(n_jobs=1)]: Done 100 out of 100 | elapsed:   26.8s finished\n",
      "[Parallel(n_jobs=1)]: Using backend SequentialBackend with 1 concurrent workers.\n",
      "[Parallel(n_jobs=1)]: Done   1 out of   1 | elapsed:    0.2s remaining:    0.0s\n",
      "[Parallel(n_jobs=1)]: Done 100 out of 100 | elapsed:   27.2s finished\n"
     ]
    },
    {
     "name": "stdout",
     "output_type": "stream",
     "text": [
      "Model Scores:\n",
      "\n",
      "model\t:\tRandomForestClassifier\n",
      "validation score\t:\t0.9997013808776888\n",
      "test score\t:\t0.9997013808776888\n"
     ]
    }
   ],
   "source": [
    "#put all the models in a dictionary\n",
    "models = {\n",
    "          \"RandomForestClassifier\": RandomForestClassifier(verbose=2)\n",
    "        }\n",
    "\n",
    "#create a function to fit and score model\n",
    "def fit_and_score(models, X_train, X_test, X_val, y_train, y_test, y_val):\n",
    "    \"\"\"\n",
    "    Fits and evaluates given machine learning models.\n",
    "    models : a dict of different Scikit-Learn machine learning models\n",
    "    X_train : training data\n",
    "    X_val :   validation data\n",
    "    X_test : training data\n",
    "    y_train : labels assosciated with training data\n",
    "    y_val : labels assosciated with validation data\n",
    "    y_test : labels assosciated with test data\n",
    "    \"\"\"\n",
    "    np.random.seed(80)\n",
    "    model_scores = {}\n",
    "    for name, model in models.items():\n",
    "        model_scores[\"model\"] = name\n",
    "        model.fit(X_train, y_train)\n",
    "        model_scores[\"validation score\"] = model.score(X_test, y_test)\n",
    "        model_scores[\"test score\"] = model.score(X_test, y_test)\n",
    "    return model_scores\n",
    "        \n",
    "model_scores = fit_and_score(models, X_train, X_test, X_val, y_train, y_test, y_val)\n",
    "\n",
    "print(\"Model Scores:\\n\")\n",
    "for name, score in model_scores.items():\n",
    "    print(\"{}\\t:\\t{}\".format(name,score))"
   ]
  },
  {
   "cell_type": "markdown",
   "id": "4fa488ef",
   "metadata": {},
   "source": [
    "#### Prediction on Test Datatset\n",
    "\n",
    "Our Model achieved an Accuracy of `99.97%` on the Test Dataset."
   ]
  },
  {
   "cell_type": "markdown",
   "id": "f68f983e",
   "metadata": {},
   "source": [
    "## QnA\n",
    "\n",
    "#### **1. How did you select variables to be included in the model?**\n",
    "After Analysis of data at the Exploratory Data Analysis step each feature was decided to have diiferent priorites at the predicition of our `target feature (isFraud)`. Features like `Sender Balance after transaction (newbalanceOrig)` and `Recepient Balance before transaction` had high correlation with our target feature (isFraud) which can also be infered from the correlation matrix.\n",
    "The `type of transaction` is also considered an important feature as we can observe in the EDA steps that Fraudulent Transactions took place when the type of transaction was either `CASH_OUT` or `TRANSFER`.\n",
    "Also for our model the `Customer identity (nameOrig)` and `Recipent identity (nameDest)` was also deemed to be of importance as to find patterns among particular Customers and Fraudulent identities.\n",
    "\n",
    "\n",
    "#### **2. Demonstrate the performance of the model by using best set of tools.**\n",
    "We have selected `randomForestClassifier` as our model of choice for the Project and `Accuracy Score` as the metric for the evaluation of the performance of our model. Our model achieved and Accuracy Score of `99.97%` on our Test Dataset. Hence, We can conclude it to be a feasible selection for our problem.\n",
    "\n",
    "\n",
    "#### **3. What are the key factors that predict fraudulent customer?**\n",
    "The Three key factors that predict fradulent customer according to the EDA step are the `type of transaction`, `sender balance after the transaction` and `recepient balance before the transaction`. \n",
    "\n",
    "\n",
    "#### **4. Do these factors make sense? If yes, How? If not, How not?**\n",
    "Yes, The above factors make sense as we can safely assume that fraudulent activites are only likey to occur while `withdrawal` or `transfer` of funds. Also during a fraudulent transaction an assilant is likey to use a dummy account to transfer funds into, which is more likey to have no prior balance, hence our observation that in `5351 (68.15%)` Fraudulent Transactions the recepient had zero balance before the Transaction. It is also likey that the entire amount of a victim is to be transferred or cashed out during a fraudulent transaction, hence our observation that in `8053 (98.05%)` of transactions the entire balance of the customer was emptied ie.Customer had zero balance after the transaction.\n",
    "\n",
    "\n",
    "#### **5. What kind of prevention should be adopted while company update its infrastructure?**\n",
    "The company should implement a `review period for transactions` whenever the entire balance of a customer is been transacted during which the transaction `should be verified` by a employee at the company or an intelligent bot via a call or other instant communication channels with the customer before processing a transaction. If the customer does not verify the transaction the transaction should be cancelled and details about the transaction should be transferred to the concerned department at the company for review to possibly trace the assilant.\n",
    "\n",
    "#### **6. Assuming these actions have been implemented, how would you determine if they work?**\n",
    "The above mentioned prevention has a decent possibility to be effective at reducing the fraudulent transactions that take place. The effectivness of the method can be gauged by conducting a time series analysis of the entire transaction history and comparing the percentage of fraudulent transactions that take place at periodic intervals."
   ]
  },
  {
   "cell_type": "code",
   "execution_count": null,
   "id": "e5f3e0f1",
   "metadata": {},
   "outputs": [],
   "source": []
  }
 ],
 "metadata": {
  "kernelspec": {
   "display_name": "Python 3",
   "language": "python",
   "name": "python3"
  },
  "language_info": {
   "codemirror_mode": {
    "name": "ipython",
    "version": 3
   },
   "file_extension": ".py",
   "mimetype": "text/x-python",
   "name": "python",
   "nbconvert_exporter": "python",
   "pygments_lexer": "ipython3",
   "version": "3.8.8"
  }
 },
 "nbformat": 4,
 "nbformat_minor": 5
}
